{
  "nbformat": 4,
  "nbformat_minor": 0,
  "metadata": {
    "colab": {
      "provenance": [],
      "toc_visible": true,
      "authorship_tag": "ABX9TyMTaGncYeaCWvqh0IFCetZm",
      "include_colab_link": true
    },
    "kernelspec": {
      "name": "python3",
      "display_name": "Python 3"
    },
    "language_info": {
      "name": "python"
    }
  },
  "cells": [
    {
      "cell_type": "markdown",
      "metadata": {
        "id": "view-in-github",
        "colab_type": "text"
      },
      "source": [
        "<a href=\"https://colab.research.google.com/github/lkmsdf159/Colleage-/blob/main/%EA%B8%B8%EC%B0%BE%EA%B8%B0~.ipynb\" target=\"_parent\"><img src=\"https://colab.research.google.com/assets/colab-badge.svg\" alt=\"Open In Colab\"/></a>"
      ]
    },
    {
      "cell_type": "code",
      "execution_count": null,
      "metadata": {
        "colab": {
          "base_uri": "https://localhost:8080/"
        },
        "id": "5I5gXNhOEjQI",
        "outputId": "56418785-e11c-4f08-a179-b55cd9af79cb"
      },
      "outputs": [
        {
          "output_type": "stream",
          "name": "stdout",
          "text": [
            "The following graph has been initialized:\n",
            "\n",
            "{'A': ['B', 'C'], 'B': ['C', 'D'], 'C': ['D'], 'D': ['C'], 'E': ['F'], 'F': ['C']}\n",
            "The path between two nodes is :\n"
          ]
        },
        {
          "output_type": "execute_result",
          "data": {
            "text/plain": [
              "['A', 'B', 'C', 'D']"
            ]
          },
          "metadata": {},
          "execution_count": 4
        }
      ],
      "source": [
        "#Initialize the grpah by defining pyhon dictionary:\n",
        "\n",
        "graph = {'A':['B', 'C'],\n",
        "         'B' : ['C', 'D'],\n",
        "         'C':['D'],\n",
        "         'D': ['C'],\n",
        "         'E': ['F'],\n",
        "         'F':['C']\n",
        "}\n",
        "print('The following graph has been initialized:\\n')\n",
        "print(graph)\n",
        "\n",
        "def find_path(graph, start, end, path=[]):\n",
        "  path = path + [start]\n",
        "  if start == end:\n",
        "    return path\n",
        "  if start not in graph:\n",
        "    return None\n",
        "  for node in graph[start]:\n",
        "    if node not in path:\n",
        "      newpath = find_path(graph, node, end, path)\n",
        "      if newpath: return newpath\n",
        "  return None\n",
        "\n",
        "print(\"The path between two nodes is :\")\n",
        "find_path(graph, 'A', 'D')\n",
        "\n",
        "\n",
        "\n"
      ]
    },
    {
      "cell_type": "code",
      "source": [
        "\n",
        "graph = {'A':['B', 'C'],\n",
        "         'B' : ['C', 'D'],\n",
        "         'C':['D'],\n",
        "         'D': ['C'],\n",
        "         'E': ['F'],\n",
        "         'F':['C']\n",
        "}\n",
        "print('The following graph has been initialized:\\n')\n",
        "print(graph)\n",
        "print('\\n')\n",
        "\n",
        "def find_shortest_path(graph, start, end, path=[]):\n",
        "  path = path + [start]\n",
        "  if start == end:\n",
        "    return path\n",
        "  if start not in graph:\n",
        "    return None\n",
        "  shortest=None\n",
        "  for node in graph[start]:\n",
        "    if node not in path:\n",
        "      newpath = find_shortest_path(graph, node, end, path)\n",
        "      if newpath:\n",
        "        if not shortest or len(newpath) < len(shortest):\n",
        "          shortest = newpath\n",
        "  return shortest\n",
        "\n",
        "print('Output: \\n')\n",
        "print(\"The shortest path between two nodes is :\")\n",
        "find_shortest_path(graph, 'A', 'C')"
      ],
      "metadata": {
        "colab": {
          "base_uri": "https://localhost:8080/"
        },
        "id": "dRFYOGIYLQkV",
        "outputId": "2faff11b-290a-4811-c022-6762156cf79d"
      },
      "execution_count": null,
      "outputs": [
        {
          "output_type": "stream",
          "name": "stdout",
          "text": [
            "The following graph has been initialized:\n",
            "\n",
            "{'A': ['B', 'C'], 'B': ['C', 'D'], 'C': ['D'], 'D': ['C'], 'E': ['F'], 'F': ['C']}\n",
            "\n",
            "\n",
            "Output: \n",
            "\n",
            "The shortest path between two nodes is :\n"
          ]
        },
        {
          "output_type": "execute_result",
          "data": {
            "text/plain": [
              "['A', 'C']"
            ]
          },
          "metadata": {},
          "execution_count": 18
        }
      ]
    },
    {
      "cell_type": "code",
      "source": [
        "class Graph:\n",
        "  def __init__(self, vertices):\n",
        "    self.V = vertices\n",
        "    self.graph = []\n",
        "\n",
        "  def addEdge(self, src, dest, weight):\n",
        "    self.graph.append([src, dest, weight])\n",
        "\n",
        "  def displayPaths(self, distance):\n",
        "    print(\"The shortest distance from a source to other vertices:\")\n",
        "    for i in range(self.V):\n",
        "      print(\"{0}\\t\\t{1}\" .format(i, distance[i]))\n",
        "\n",
        "  def bellmanFord(self, source):\n",
        "    distance = [float(\"Inf\")] * self.V\n",
        "    distance[source] = 0\n",
        "\n",
        "    for _ in range(self.V - 1):\n",
        "      for src, dest, weight in self.graph:\n",
        "        if distance[src] != float(\"Inf\") and distance[src] + weight < distance[dest]:\n",
        "          distance[dest] = distance[src] + weight\n",
        "\n",
        "    for src, dest, weight in self.graph:\n",
        "      if distance[src] != float(\"Inf\") and distance[src] + weight < distance[dest]:\n",
        "        print(\"Negetive cycle exists in the graph\")\n",
        "        return\n",
        "    self.displayPaths(distance)\n",
        "\n",
        "\n",
        "g = Graph(6)\n",
        "g.addEdge(0, 1, 7)\n",
        "g.addEdge(0, 2, 6)\n",
        "g.addEdge(1, 3, 5)\n",
        "g.addEdge(2, 1, 8)\n",
        "g.addEdge(3, 2, 4)\n",
        "g.addEdge(3,5,7)\n",
        "\n",
        "print('Output:')\n",
        "g.bellmanFord(0)\n",
        "\n"
      ],
      "metadata": {
        "colab": {
          "base_uri": "https://localhost:8080/"
        },
        "id": "NDRtldSsMCze",
        "outputId": "0d3c7367-5801-47e7-a237-9c7d976b6cdd"
      },
      "execution_count": null,
      "outputs": [
        {
          "output_type": "stream",
          "name": "stdout",
          "text": [
            "Output:\n",
            "The shortest distance from a source to other vertices:\n",
            "0\t\t0\n",
            "1\t\t7\n",
            "2\t\t6\n",
            "3\t\t12\n",
            "4\t\tinf\n",
            "5\t\t19\n"
          ]
        }
      ]
    },
    {
      "cell_type": "code",
      "source": [],
      "metadata": {
        "id": "JvU8QzIhXlrJ"
      },
      "execution_count": null,
      "outputs": []
    }
  ]
}