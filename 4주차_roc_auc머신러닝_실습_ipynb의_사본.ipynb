{
  "cells": [
    {
      "cell_type": "markdown",
      "metadata": {
        "id": "view-in-github",
        "colab_type": "text"
      },
      "source": [
        "<a href=\"https://colab.research.google.com/github/lkmsdf159/Colleage-/blob/main/4%EC%A3%BC%EC%B0%A8_roc_auc%EB%A8%B8%EC%8B%A0%EB%9F%AC%EB%8B%9D_%EC%8B%A4%EC%8A%B5_ipynb%EC%9D%98_%EC%82%AC%EB%B3%B8.ipynb\" target=\"_parent\"><img src=\"https://colab.research.google.com/assets/colab-badge.svg\" alt=\"Open In Colab\"/></a>"
      ]
    },
    {
      "cell_type": "code",
      "execution_count": null,
      "id": "c5f426c6",
      "metadata": {
        "id": "c5f426c6"
      },
      "outputs": [],
      "source": [
        "# Evaluation Matrix in ML\n",
        "# Comfusion Matrix\n",
        "\n",
        "import numpy as np\n",
        "import pandas as pd\n",
        "import matplotlib.pyplot as plt\n",
        "%matplotlib inline"
      ]
    },
    {
      "cell_type": "code",
      "execution_count": null,
      "id": "475310db",
      "metadata": {
        "id": "475310db",
        "outputId": "e550aa72-9b46-4e77-daf2-dadeec9855c5"
      },
      "outputs": [
        {
          "name": "stdout",
          "output_type": "stream",
          "text": [
            "[1 1 1 1 1 1 1 1 1 1 1 1 1 1 0 1 1 1 1 1 1 1 1 1 1 1 1 1 1 1 1 1 0 1 1 0 1\n",
            " 1 1 1 0 1 1 1 1 0 1 0 1 1 1 1 1 1 1 1 1 1 1 1 1 1 1 1 1 1 0 1 1 1 1 1 1 1\n",
            " 1 1 1 0 1 1 1 1 1 1 1 1 1 1 1 1 1 1 1 0 1 0 1 1 1 0 1 1 1 1 1 1 1 1 1 1 1\n",
            " 1 1 1 1 1 1 1 1 1 0 1 1 1 1 1 1 1 1 1 1 0 1 1 1 1 0 1 1 1 1 1 1 1 1 1 1 1\n",
            " 1 1 1 1 1 1 1 1 1 1 1 1 1 1 1 1 1 1 0 1 1 1 1 0 1 1 1 1 1 1 1 1 0 1 1 1 1\n",
            " 0 1 1 1 1 1 1 1 1 1 1 1 1 0 1 1 1 1 0 1 1 1 1 1 1 1 1 1 1 1 1 1 1 1 1 1 1\n",
            " 1 1 1 1 1 1 1 1 1 1 1 1 1 1 1 1 1 1 1 0 1 1 1 1 1 1 1 1 1 1 0 1 0 0 1 1 1\n",
            " 1 1 1 1 1 1 1 1 1 1 1 0 1 1 1 1 0 1 1 1 1 1 1 0 1 1 1 0 1 1 1 1 1 0 1 1 1\n",
            " 1 1 1 1 1 1 1 1 1 1 1 1 1 1 1 1 1 1 1 1 0 1 1 0 1 1 1 0 1 1 1 1 1 1 1 1 1\n",
            " 1 1 0 0 1 1 1 1 1 1 1 1 1 1 1 0 1 1 1 1 1 1 1 1 1 1 1 1 0 1 1 1 1 1 1 0 1\n",
            " 0 1 1 1 1 1 1 1 1 1 1 1 1 0 0 1 1 1 1 1 1 1 1 1 1 1 1 1 1 1 1 0 1 1 0 1 1\n",
            " 1 1 1 1 1 1 1 1 1 1 1 1 1 1 1 1 1 1 1 1 1 1 1 1 1 1 1 1 0 1 1 1 1 1 1 1 1\n",
            " 1 1 1 0 1 1 1 1 0 0 1 1 1 1 1 1 1 1 1 1 1 1 1 1 1 0 1 1 1 0 1 1 1 1 1 1 1\n",
            " 1 0 1 1 1 1 1 0 1 1 1 1 1 1 1 1 1 1 0 1 1 1 1 1 1 1 0 1 1 1 1 1 1 1 1 1 1\n",
            " 1 1 1 1 1 1 1 1 1 1 1 1 1 1 1 1 1 1 0 1 1 1 0 1 1 1 1 1 1 1 1 1 1 1 1 0 1\n",
            " 1 1 1 1 1 1 1 1 1 1 1 1 1 1 1 1 1 1 1 1 1 0 1 1 1 1 1 1 0 1 1 1 1 1 1 1 1\n",
            " 1 1 1 1 1 1 1 1 1 1 1 1 1 0 1 1 1 1 1 1 1 1 1 1 1 1 1 1 1 1 0 1 1 1 1 1 1\n",
            " 1 1 0 1 1 1 1 1 1 1 1 1 1 1 1 1 1 1 1 1 0 1 1 1 1 1 0 1 1 1 1 1 1 1 1 1 1\n",
            " 1 1 0 1 1 1 1 1 1 1 1 1 1 1 1 1 0 1 1 1 0 0 1 1 1 1 0 1 1 1 1 1 1 1 1 1 1\n",
            " 1 1 1 1 1 1 1 1 1 1 1 1 1 1 1 1 0 1 1 1 1 1 1 1 1 1 1 0 1 1 1 1 1 1 1 1 1\n",
            " 1 1 1 1 1 1 1 1 0 1 1 1 1 1 1 0 1 1 1 1 1 1 1 1 1 1 1 1 1 1 1 1 1 1 1 1 1\n",
            " 1 1 1 1 1 1 1 1 1 1 1 1 1 1 1 1 1 1 1 1 1 1 1 1 1 1 0 1 1 1 1 1 1 1 1 1 1\n",
            " 1 1 1 1 1 1 1 0 1 1 1 1 1 0 0 1 1 1 1 1 1 1 0 1 1 1 1 1 1 1 1 1 1 1 1 1 1\n",
            " 1 1 1 1 1 1 1 1 1 1 1 1 1 0 1 0 1 1 1 1 1 1 1 1 1 1 1 1 1 1 1 1 1 1 1 0 1\n",
            " 1 1 1 1 1 1 1 1 1 1 1 1 1 1 0 1 1 0 1 1 0 1 1 1 1 1 1 1 1 0 1 1 1 1 1 1 1\n",
            " 1 1 1 1 1 1 1 1 1 1 1 1 1 1 1 1 1 1 1 1 1 1 1 1 1 1 1 1 1 1 1 1 1 1 1 1 1\n",
            " 1 1 1 1 0 1 1 1 1 1 1 1 1 1 1 1 1 1 1 1 0 0 1 1 1 1 1 0 1 1 1 1 1 1 1 1 1\n",
            " 1]\n"
          ]
        },
        {
          "data": {
            "text/html": [
              "<div>\n",
              "<style scoped>\n",
              "    .dataframe tbody tr th:only-of-type {\n",
              "        vertical-align: middle;\n",
              "    }\n",
              "\n",
              "    .dataframe tbody tr th {\n",
              "        vertical-align: top;\n",
              "    }\n",
              "\n",
              "    .dataframe thead th {\n",
              "        text-align: right;\n",
              "    }\n",
              "</style>\n",
              "<table border=\"1\" class=\"dataframe\">\n",
              "  <thead>\n",
              "    <tr style=\"text-align: right;\">\n",
              "      <th></th>\n",
              "      <th>0</th>\n",
              "    </tr>\n",
              "  </thead>\n",
              "  <tbody>\n",
              "    <tr>\n",
              "      <th>882</th>\n",
              "      <td>1</td>\n",
              "    </tr>\n",
              "    <tr>\n",
              "      <th>865</th>\n",
              "      <td>1</td>\n",
              "    </tr>\n",
              "    <tr>\n",
              "      <th>398</th>\n",
              "      <td>1</td>\n",
              "    </tr>\n",
              "    <tr>\n",
              "      <th>554</th>\n",
              "      <td>1</td>\n",
              "    </tr>\n",
              "    <tr>\n",
              "      <th>754</th>\n",
              "      <td>1</td>\n",
              "    </tr>\n",
              "    <tr>\n",
              "      <th>...</th>\n",
              "      <td>...</td>\n",
              "    </tr>\n",
              "    <tr>\n",
              "      <th>41</th>\n",
              "      <td>1</td>\n",
              "    </tr>\n",
              "    <tr>\n",
              "      <th>909</th>\n",
              "      <td>1</td>\n",
              "    </tr>\n",
              "    <tr>\n",
              "      <th>83</th>\n",
              "      <td>1</td>\n",
              "    </tr>\n",
              "    <tr>\n",
              "      <th>647</th>\n",
              "      <td>1</td>\n",
              "    </tr>\n",
              "    <tr>\n",
              "      <th>843</th>\n",
              "      <td>1</td>\n",
              "    </tr>\n",
              "  </tbody>\n",
              "</table>\n",
              "<p>100 rows × 1 columns</p>\n",
              "</div>"
            ],
            "text/plain": [
              "     0\n",
              "882  1\n",
              "865  1\n",
              "398  1\n",
              "554  1\n",
              "754  1\n",
              "..  ..\n",
              "41   1\n",
              "909  1\n",
              "83   1\n",
              "647  1\n",
              "843  1\n",
              "\n",
              "[100 rows x 1 columns]"
            ]
          },
          "execution_count": 2,
          "metadata": {},
          "output_type": "execute_result"
        }
      ],
      "source": [
        "# Generating actual classes of a given number of instances\n",
        "# Using Bionomial distribution, where the parameters are\n",
        "# bionomial (n, p ,size)\n",
        "\n",
        "actual_output = np.random.binomial(1, .9, size = 1000)\n",
        "print(actual_output)\n",
        "actual_output = pd.DataFrame(actual_output)\n",
        "actual_output.sample(100)"
      ]
    },
    {
      "cell_type": "code",
      "execution_count": null,
      "id": "72212e45",
      "metadata": {
        "id": "72212e45",
        "outputId": "a2ae75d0-42f8-4a04-f8ce-1165de51c515"
      },
      "outputs": [
        {
          "name": "stdout",
          "output_type": "stream",
          "text": [
            "[1 1 1 1 0 1 1 0 1 0 0 1 1 1 1 1 1 1 1 1 1 1 1 1 1 1 1 1 1 1 1 1 1 0 1 1 0\n",
            " 1 1 1 0 1 1 1 1 1 1 1 1 1 1 0 1 1 1 1 1 1 0 1 1 0 1 1 1 1 1 1 1 1 0 1 1 1\n",
            " 1 1 1 0 1 1 1 1 0 1 1 0 0 1 1 1 1 1 1 1 1 1 1 0 0 1 0 1 1 1 1 1 1 1 1 1 1\n",
            " 1 1 1 1 1 1 1 1 1 1 1 1 1 1 1 1 1 1 1 1 1 1 1 1 1 1 1 1 1 1 1 1 1 0 0 1 1\n",
            " 1 1 1 1 1 1 1 1 1 1 1 1 1 1 1 1 1 1 1 1 1 1 1 1 1 1 1 1 1 1 1 1 0 1 1 1 1\n",
            " 1 1 1 1 1 1 1 1 1 1 1 1 1 1 1 1 1 1 1 1 1 1 1 1 1 1 1 1 1 1 1 1 1 1 1 1 1\n",
            " 1 1 1 1 1 1 1 1 1 1 0 1 1 1 1 1 1 1 1 1 1 1 1 1 1 1 1 1 1 1 1 1 1 1 1 1 1\n",
            " 1 1 1 1 1 1 0 0 1 1 1 1 1 1 1 1 1 1 1 1 1 1 1 1 1 1 1 1 1 1 1 1 1 1 1 1 1\n",
            " 1 1 1 1 1 1 1 1 1 1 0 0 1 1 0 1 1 1 1 1 1 1 1 1 1 0 1 1 1 1 1 1 1 1 1 1 1\n",
            " 1 1 1 1 1 1 0 1 1 1 1 1 1 1 0 1 1 1 1 1 1 0 1 0 0 1 1 1 1 1 1 1 1 1 1 1 1\n",
            " 1 1 1 1 0 1 1 1 1 1 1 1 1 1 0 1 1 1 1 0 1 1 1 1 1 1 1 1 1 1 1 0 1 1 1 1 1\n",
            " 1 1 1 1 1 1 1 1 1 1 1 1 1 1 1 1 1 1 1 1 1 1 1 1 1 1 1 1 1 1 0 1 1 1 1 1 1\n",
            " 1 1 1 1 1 1 1 1 1 1 1 1 1 1 1 1 1 1 1 1 1 1 1 1 1 1 1 1 1 1 1 1 0 1 1 1 0\n",
            " 1 1 1 1 1 1 1 1 0 1 1 1 0 1 1 0 1 1 1 0 1 1 1 0 1 1 0 1 1 1 1 1 1 1 1 1 1\n",
            " 1 1 1 1 1 1 1 1 1 1 1 1 1 1 1 1 1 1 1 1 1 1 1 1 1 1 1 1 1 1 1 1 1 1 0 1 1\n",
            " 0 0 1 0 0 1 1 1 1 1 1 1 1 1 0 1 1 1 1 1 1 1 1 1 1 1 0 1 1 1 1 1 1 1 0 0 1\n",
            " 1 1 1 1 1 1 1 0 1 1 1 1 1 1 1 1 1 0 1 1 1 1 1 1 1 1 1 1 1 1 1 1 1 1 1 1 0\n",
            " 1 0 1 1 1 1 1 1 1 0 1 1 1 1 1 1 1 1 1 1 1 1 1 1 1 1 1 1 1 1 1 1 1 1 1 0 1\n",
            " 0 1 1 1 1 1 1 1 1 1 1 1 1 1 1 1 0 0 1 1 1 1 1 1 1 1 1 1 1 1 0 1 1 1 1 1 1\n",
            " 0 1 1 1 1 0 1 1 1 0 1 1 1 1 1 1 1 1 1 1 1 1 1 1 1 1 1 1 1 1 1 1 1 0 1 1 1\n",
            " 1 1 1 1 1 1 1 1 0 1 1 0 1 1 1 1 1 1 1 1 0 1 1 0 1 1 1 1 1 1 1 1 1 0 1 1 1\n",
            " 1 1 1 1 0 1 1 1 1 0 1 0 1 1 1 1 1 1 1 1 1 1 1 1 1 1 0 1 1 1 1 1 1 1 0 1 1\n",
            " 0 1 1 1 1 1 1 1 1 1 1 1 1 1 1 1 1 1 1 1 1 1 1 1 1 1 1 1 1 1 1 0 1 1 1 1 0\n",
            " 0 1 1 1 1 1 1 1 1 0 1 1 1 1 1 1 0 1 1 1 1 1 1 1 1 1 1 1 1 1 1 1 1 1 0 1 1\n",
            " 1 1 1 1 1 0 1 1 1 1 1 1 1 0 0 1 1 1 1 1 1 1 1 1 1 1 1 1 1 1 1 1 1 1 0 1 1\n",
            " 1 1 1 1 1 1 1 1 1 1 1 1 1 1 1 1 1 1 1 1 1 1 1 1 1 1 1 1 0 0 1 1 1 1 1 1 1\n",
            " 1 1 0 0 1 0 1 1 1 0 1 1 1 1 1 1 1 0 1 1 1 1 1 1 0 1 1 1 1 1 1 1 1 1 1 1 1\n",
            " 0]\n"
          ]
        },
        {
          "data": {
            "text/html": [
              "<div>\n",
              "<style scoped>\n",
              "    .dataframe tbody tr th:only-of-type {\n",
              "        vertical-align: middle;\n",
              "    }\n",
              "\n",
              "    .dataframe tbody tr th {\n",
              "        vertical-align: top;\n",
              "    }\n",
              "\n",
              "    .dataframe thead th {\n",
              "        text-align: right;\n",
              "    }\n",
              "</style>\n",
              "<table border=\"1\" class=\"dataframe\">\n",
              "  <thead>\n",
              "    <tr style=\"text-align: right;\">\n",
              "      <th></th>\n",
              "      <th>0</th>\n",
              "    </tr>\n",
              "  </thead>\n",
              "  <tbody>\n",
              "    <tr>\n",
              "      <th>268</th>\n",
              "      <td>1</td>\n",
              "    </tr>\n",
              "    <tr>\n",
              "      <th>94</th>\n",
              "      <td>1</td>\n",
              "    </tr>\n",
              "    <tr>\n",
              "      <th>754</th>\n",
              "      <td>1</td>\n",
              "    </tr>\n",
              "    <tr>\n",
              "      <th>734</th>\n",
              "      <td>1</td>\n",
              "    </tr>\n",
              "    <tr>\n",
              "      <th>725</th>\n",
              "      <td>1</td>\n",
              "    </tr>\n",
              "    <tr>\n",
              "      <th>...</th>\n",
              "      <td>...</td>\n",
              "    </tr>\n",
              "    <tr>\n",
              "      <th>643</th>\n",
              "      <td>1</td>\n",
              "    </tr>\n",
              "    <tr>\n",
              "      <th>483</th>\n",
              "      <td>1</td>\n",
              "    </tr>\n",
              "    <tr>\n",
              "      <th>697</th>\n",
              "      <td>1</td>\n",
              "    </tr>\n",
              "    <tr>\n",
              "      <th>997</th>\n",
              "      <td>1</td>\n",
              "    </tr>\n",
              "    <tr>\n",
              "      <th>444</th>\n",
              "      <td>1</td>\n",
              "    </tr>\n",
              "  </tbody>\n",
              "</table>\n",
              "<p>100 rows × 1 columns</p>\n",
              "</div>"
            ],
            "text/plain": [
              "     0\n",
              "268  1\n",
              "94   1\n",
              "754  1\n",
              "734  1\n",
              "725  1\n",
              "..  ..\n",
              "643  1\n",
              "483  1\n",
              "697  1\n",
              "997  1\n",
              "444  1\n",
              "\n",
              "[100 rows x 1 columns]"
            ]
          },
          "execution_count": 4,
          "metadata": {},
          "output_type": "execute_result"
        }
      ],
      "source": [
        "# predicted classes of a given number of instances\n",
        "predicted_output = np.random.binomial(1, 0.9, size = 1000)\n",
        "print(predicted_output)\n",
        "predicted_output = pd.DataFrame(predicted_output)\n",
        "predicted_output.sample(100)"
      ]
    },
    {
      "cell_type": "code",
      "execution_count": null,
      "id": "576d8993",
      "metadata": {
        "id": "576d8993",
        "outputId": "d336c291-61b6-4beb-bf7b-58f8d7865a8b"
      },
      "outputs": [
        {
          "data": {
            "image/png": "[encoded data removed]",
            "text/plain": [
              "<Figure size 640x480 with 2 Axes>"
            ]
          },
          "metadata": {},
          "output_type": "display_data"
        }
      ],
      "source": [
        "from sklearn import metrics\n",
        "confusion_matrix = metrics.confusion_matrix(actual_output, predicted_output)\n",
        "cm_display = metrics.ConfusionMatrixDisplay(confusion_matrix =\n",
        "                                            confusion_matrix, display_labels = [False, True])\n",
        "cm_display.plot()\n",
        "plt.show()"
      ]
    },
    {
      "cell_type": "code",
      "execution_count": null,
      "id": "c268f8be",
      "metadata": {
        "id": "c268f8be",
        "outputId": "085e4783-c76f-460b-a0ca-8f2efe1d0e2f"
      },
      "outputs": [
        {
          "name": "stdout",
          "output_type": "stream",
          "text": [
            "The accuracy value is: 0.834\n",
            "The precision value is: 0.9145394006659268\n",
            "THe recall value is: 0.9025191675794085\n",
            "The specificity value is: 0.11494252873563218\n",
            "The f1-score value is: 0.908489525909592\n"
          ]
        }
      ],
      "source": [
        "# Evaluation Matrics(Accuracy, Precision, Recall, Specificity, and F1-Score)\n",
        "# Import Required Libraries Invlove the Evaluation Matrics\n",
        "# Accuracy result:\n",
        "Accuracy = metrics.accuracy_score(actual_output, predicted_output)\n",
        "print(\"The accuracy value is:\", Accuracy)\n",
        "\n",
        "# Precision result:\n",
        "Precision = metrics.precision_score(actual_output, predicted_output)\n",
        "print(\"The precision value is:\", Precision)\n",
        "\n",
        "# Recall (Sensitivity) result:\n",
        "Recall = metrics.recall_score(actual_output, predicted_output)\n",
        "print(\"THe recall value is:\", Recall)\n",
        "\n",
        "# True Negative Rate (Specificity) result:\n",
        "# Since it is just the opposite of Recall, we use the recall_score function,\n",
        "# taking the opposite position label;\n",
        "Specificity = metrics.recall_score(actual_output, predicted_output, pos_label = 0)\n",
        "print(\"The specificity value is:\", Specificity)\n",
        "\n",
        "# F1-Score\n",
        "F1_Score = metrics.f1_score(actual_output, predicted_output)\n",
        "print(\"The f1-score value is:\", F1_Score)"
      ]
    },
    {
      "cell_type": "code",
      "execution_count": null,
      "id": "83b8681c",
      "metadata": {
        "id": "83b8681c",
        "outputId": "949af39f-679b-4b38-8a32-d821a6906870"
      },
      "outputs": [
        {
          "name": "stdout",
          "output_type": "stream",
          "text": [
            "              precision    recall  f1-score   support\n",
            "\n",
            "           0       0.10      0.11      0.11        87\n",
            "           1       0.91      0.90      0.91       913\n",
            "\n",
            "    accuracy                           0.83      1000\n",
            "   macro avg       0.51      0.51      0.51      1000\n",
            "weighted avg       0.84      0.83      0.84      1000\n",
            "\n"
          ]
        }
      ],
      "source": [
        "# We can also utilize the classification report function to get the\n",
        "# results of the metrics(Accuracy, precision, recall, and F1-score)\n",
        "mat = metrics.classification_report(actual_output, predicted_output)\n",
        "print(mat)"
      ]
    },
    {
      "cell_type": "code",
      "execution_count": null,
      "id": "ece13a9a",
      "metadata": {
        "scrolled": false,
        "id": "ece13a9a",
        "outputId": "6a868e86-5acf-4b97-84b9-2545670af4d6"
      },
      "outputs": [
        {
          "data": {
            "image/png": "[encoded data removed]",
            "text/plain": [
              "<Figure size 640x480 with 1 Axes>"
            ]
          },
          "metadata": {},
          "output_type": "display_data"
        },
        {
          "name": "stdout",
          "output_type": "stream",
          "text": [
            "THe area under ROC curve (AUC-ROC) is:  0.792\n"
          ]
        }
      ],
      "source": [
        "# ROC Cureve:\n",
        "import numpy as np\n",
        "import pandas as pd\n",
        "import matplotlib.pyplot as plt\n",
        "df = pd.read_csv('auc-case-predictions.csv')\n",
        "\n",
        "threshold = 0.5\n",
        "tp = 0; tn = 0; fp = 0; fn=0;\n",
        "for index, instance in df.iterrows():\n",
        "    actual = instance[\"actual\"]\n",
        "# print (actual)\n",
        "    prediction = instance[\"prediction\"]\n",
        "# print(prediction)\n",
        "    if prediction >= threshold:\n",
        "        prediction_class = 1\n",
        "    else:\n",
        "        prediction_class = 0\n",
        "\n",
        "    # Calculating the confusion matrix terms:\n",
        "    if prediction_class == 1 and actual ==1:\n",
        "        tp = tp + 1\n",
        "    elif actual == 1 and prediction_class == 0:\n",
        "        fn = fn + 1\n",
        "    elif actual == 0 and prediction_class == 1:\n",
        "        fp = fp + 1\n",
        "    elif actual == 0 and prediction_class == 0:\n",
        "        tn = tn + 1\n",
        "\n",
        "# Calculating true positive rate and false positive rate:\n",
        "tpr = tp/(tp+fn)\n",
        "\n",
        "fpr = fp/(fp+tn)\n",
        "\n",
        "\n",
        "# Tuning the threshold:\n",
        "roc_score = []\n",
        "# thresholds = List(np.array(List(range(0, 1000+1, 1 )))/1000)\n",
        "arr = np.arange(0,1,0.01)\n",
        "thresholds = arr.tolist()\n",
        "\n",
        "for threshold in thresholds:\n",
        "    tp = 0; tn = 0; fp=0; fn=0;\n",
        "    for index, instance in df.iterrows():\n",
        "        actual = instance[\"actual\"]\n",
        "\n",
        "        prediction = instance[\"prediction\"]\n",
        "\n",
        "        if prediction >+ threshold:\n",
        "            prediction_class = 1\n",
        "        else:\n",
        "            prediction_class = 0\n",
        "\n",
        "        # calculating the confusion matrix terms:\n",
        "        if prediction_class == 1 and actual ==1:\n",
        "            tp = tp+1\n",
        "        elif actual == 1 and prediction_class ==0:\n",
        "            fn= fn+1\n",
        "        elif actual ==0 and prediction_class == 1:\n",
        "            fp = fp+1\n",
        "        elif actual == 0 and prediction_class == 0:\n",
        "            tn = tn+1\n",
        "\n",
        "    tpr = tp/(tp+fn)\n",
        "\n",
        "    fpr = fp/(fp+tn)\n",
        "\n",
        "    roc_score.append([tpr, fpr])\n",
        "\n",
        "# Convert roc scores into pandas dataframe:\n",
        "roc_points = pd.DataFrame(roc_score, columns = ['tpr', 'fpr'])\n",
        "roc_points['threshold']= thresholds\n",
        "\n",
        "# Plot ROC Curve\n",
        "plt.plot(roc_points.fpr, roc_points.tpr, 'r.')\n",
        "# plt.legend([\"Classifier Model\"])\n",
        "# plot predictions based on random numbers\n",
        "plt.plot([0,1], 'g')\n",
        "plt.legend(['Classifier', 'Classifier(Random Number)'], loc = 4)\n",
        "plt.xlabel('True Positive Rate')\n",
        "plt.ylabel('False Positive Rate')\n",
        "plt.grid()\n",
        "plt.show()\n",
        "\n",
        "#(AUC-ROC)\n",
        "from numpy import trapz\n",
        "auc= round(abs(np.trapz(roc_points.tpr, roc_points.fpr)), 4)\n",
        "print(\"THe area under ROC curve (AUC-ROC) is: \", auc)"
      ]
    },
    {
      "cell_type": "code",
      "execution_count": null,
      "id": "263bedc4",
      "metadata": {
        "id": "263bedc4"
      },
      "outputs": [],
      "source": []
    }
  ],
  "metadata": {
    "kernelspec": {
      "display_name": "Python 3 (ipykernel)",
      "language": "python",
      "name": "python3"
    },
    "language_info": {
      "codemirror_mode": {
        "name": "ipython",
        "version": 3
      },
      "file_extension": ".py",
      "mimetype": "text/x-python",
      "name": "python",
      "nbconvert_exporter": "python",
      "pygments_lexer": "ipython3",
      "version": "3.11.5"
    },
    "colab": {
      "provenance": [],
      "include_colab_link": true
    }
  },
  "nbformat": 4,
  "nbformat_minor": 5
}